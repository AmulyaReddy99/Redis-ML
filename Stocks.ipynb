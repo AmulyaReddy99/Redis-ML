{
 "cells": [
  {
   "cell_type": "code",
   "execution_count": 1,
   "metadata": {},
   "outputs": [],
   "source": [
    "import redis\n",
    "r = redis.Redis()\n",
    "import pickle\n",
    "import pandas as pd\n",
    "import numpy as np  \n",
    "import matplotlib.pyplot as plt\n",
    "%matplotlib inline"
   ]
  },
  {
   "cell_type": "code",
   "execution_count": 2,
   "metadata": {},
   "outputs": [
    {
     "name": "stderr",
     "output_type": "stream",
     "text": [
      "/Library/Frameworks/Python.framework/Versions/3.6/lib/python3.6/site-packages/h5py/__init__.py:36: FutureWarning: Conversion of the second argument of issubdtype from `float` to `np.floating` is deprecated. In future, it will be treated as `np.float64 == np.dtype(float).type`.\n",
      "  from ._conv import register_converters as _register_converters\n"
     ]
    }
   ],
   "source": [
    "from tensorflow.keras.models import Sequential\n",
    "from tensorflow.keras.layers import Dense, LSTM, Dropout "
   ]
  },
  {
   "cell_type": "code",
   "execution_count": 3,
   "metadata": {},
   "outputs": [],
   "source": [
    "# plot open vs date (training)\n",
    "url = 'https://www.alphavantage.co/query?function=TIME_SERIES_DAILY_ADJUSTED&symbol=MSFT&outputsize=full&apikey=WIGVQ9248GZG5TU3&datatype=csv'"
   ]
  },
  {
   "cell_type": "code",
   "execution_count": 4,
   "metadata": {},
   "outputs": [
    {
     "data": {
      "text/plain": [
       "(5337, 9)"
      ]
     },
     "execution_count": 4,
     "metadata": {},
     "output_type": "execute_result"
    }
   ],
   "source": [
    "full = pd.read_csv(url)\n",
    "full.shape"
   ]
  },
  {
   "cell_type": "code",
   "execution_count": 5,
   "metadata": {},
   "outputs": [
    {
     "data": {
      "text/html": [
       "<div>\n",
       "<style scoped>\n",
       "    .dataframe tbody tr th:only-of-type {\n",
       "        vertical-align: middle;\n",
       "    }\n",
       "\n",
       "    .dataframe tbody tr th {\n",
       "        vertical-align: top;\n",
       "    }\n",
       "\n",
       "    .dataframe thead th {\n",
       "        text-align: right;\n",
       "    }\n",
       "</style>\n",
       "<table border=\"1\" class=\"dataframe\">\n",
       "  <thead>\n",
       "    <tr style=\"text-align: right;\">\n",
       "      <th></th>\n",
       "      <th>timestamp</th>\n",
       "      <th>open</th>\n",
       "      <th>high</th>\n",
       "      <th>low</th>\n",
       "      <th>close</th>\n",
       "      <th>adjusted_close</th>\n",
       "      <th>volume</th>\n",
       "      <th>dividend_amount</th>\n",
       "      <th>split_coefficient</th>\n",
       "    </tr>\n",
       "  </thead>\n",
       "  <tbody>\n",
       "    <tr>\n",
       "      <th>0</th>\n",
       "      <td>2021-01-15</td>\n",
       "      <td>213.52</td>\n",
       "      <td>214.51</td>\n",
       "      <td>212.0300</td>\n",
       "      <td>212.65</td>\n",
       "      <td>212.65</td>\n",
       "      <td>31746512</td>\n",
       "      <td>0.0</td>\n",
       "      <td>1.0</td>\n",
       "    </tr>\n",
       "    <tr>\n",
       "      <th>1</th>\n",
       "      <td>2021-01-14</td>\n",
       "      <td>215.91</td>\n",
       "      <td>217.46</td>\n",
       "      <td>212.7400</td>\n",
       "      <td>213.02</td>\n",
       "      <td>213.02</td>\n",
       "      <td>29346737</td>\n",
       "      <td>0.0</td>\n",
       "      <td>1.0</td>\n",
       "    </tr>\n",
       "    <tr>\n",
       "      <th>2</th>\n",
       "      <td>2021-01-13</td>\n",
       "      <td>214.02</td>\n",
       "      <td>216.76</td>\n",
       "      <td>213.9266</td>\n",
       "      <td>216.34</td>\n",
       "      <td>216.34</td>\n",
       "      <td>20087080</td>\n",
       "      <td>0.0</td>\n",
       "      <td>1.0</td>\n",
       "    </tr>\n",
       "    <tr>\n",
       "      <th>3</th>\n",
       "      <td>2021-01-12</td>\n",
       "      <td>216.50</td>\n",
       "      <td>217.10</td>\n",
       "      <td>213.3202</td>\n",
       "      <td>214.93</td>\n",
       "      <td>214.93</td>\n",
       "      <td>23148341</td>\n",
       "      <td>0.0</td>\n",
       "      <td>1.0</td>\n",
       "    </tr>\n",
       "    <tr>\n",
       "      <th>4</th>\n",
       "      <td>2021-01-11</td>\n",
       "      <td>218.47</td>\n",
       "      <td>218.91</td>\n",
       "      <td>216.7300</td>\n",
       "      <td>217.49</td>\n",
       "      <td>217.49</td>\n",
       "      <td>23047029</td>\n",
       "      <td>0.0</td>\n",
       "      <td>1.0</td>\n",
       "    </tr>\n",
       "  </tbody>\n",
       "</table>\n",
       "</div>"
      ],
      "text/plain": [
       "    timestamp    open    high       low   close  adjusted_close    volume  \\\n",
       "0  2021-01-15  213.52  214.51  212.0300  212.65          212.65  31746512   \n",
       "1  2021-01-14  215.91  217.46  212.7400  213.02          213.02  29346737   \n",
       "2  2021-01-13  214.02  216.76  213.9266  216.34          216.34  20087080   \n",
       "3  2021-01-12  216.50  217.10  213.3202  214.93          214.93  23148341   \n",
       "4  2021-01-11  218.47  218.91  216.7300  217.49          217.49  23047029   \n",
       "\n",
       "   dividend_amount  split_coefficient  \n",
       "0              0.0                1.0  \n",
       "1              0.0                1.0  \n",
       "2              0.0                1.0  \n",
       "3              0.0                1.0  \n",
       "4              0.0                1.0  "
      ]
     },
     "execution_count": 5,
     "metadata": {},
     "output_type": "execute_result"
    }
   ],
   "source": [
    "full.head()"
   ]
  },
  {
   "cell_type": "code",
   "execution_count": 6,
   "metadata": {},
   "outputs": [],
   "source": [
    "train = full.head(int(full.shape[0]*0.7))\n",
    "test = full.tail(int(full.shape[0]*0.3))"
   ]
  },
  {
   "cell_type": "code",
   "execution_count": 7,
   "metadata": {},
   "outputs": [
    {
     "data": {
      "image/png": "[encoded data removed]",
      "text/plain": [
       "<Figure size 432x288 with 2 Axes>"
      ]
     },
     "metadata": {
      "needs_background": "light"
     },
     "output_type": "display_data"
    }
   ],
   "source": [
    "fg1 = plt.subplot2grid((1,6),(0,0), rowspan=1, colspan=5)\n",
    "fg2 = plt.subplot2grid((1,6),(0,5), rowspan=1, colspan=1)\n",
    "\n",
    "fg1.plot(train['open'].values)\n",
    "fg1.set_xlim([0,train.shape[0]])\n",
    "fg1.set_ylim([0,150])\n",
    "\n",
    "fg2.plot(test['open'].values,color='red')\n",
    "fg2.set_xlim([0,test.shape[0]])\n",
    "fg2.set_ylim([0,150])\n",
    "\n",
    "plt.show()"
   ]
  },
  {
   "cell_type": "code",
   "execution_count": 8,
   "metadata": {},
   "outputs": [
    {
     "name": "stdout",
     "output_type": "stream",
     "text": [
      "(3735, 1) (1601, 1)\n"
     ]
    }
   ],
   "source": [
    "train_processed = train.iloc[:, 1:2].values\n",
    "test_processed = test.iloc[:, 1:2].values\n",
    "print(train_processed.shape,test_processed.shape)"
   ]
  },
  {
   "cell_type": "code",
   "execution_count": 9,
   "metadata": {},
   "outputs": [],
   "source": [
    "from sklearn.preprocessing import MinMaxScaler\n",
    "scaler = MinMaxScaler(feature_range = (0, 1))\n",
    "train_scaled = scaler.fit_transform(train_processed)\n",
    "test_scaled = scaler.fit_transform(test_processed)"
   ]
  },
  {
   "cell_type": "code",
   "execution_count": 10,
   "metadata": {
    "scrolled": false
   },
   "outputs": [
    {
     "name": "stdout",
     "output_type": "stream",
     "text": [
      "Train\n",
      " [[0.92642594]\n",
      " [0.93759051]\n",
      " [0.92876162]\n",
      " ...\n",
      " [0.05955996]\n",
      " [0.0583454 ]\n",
      " [0.05689728]] \n",
      "---------------\n",
      "Test\n",
      "[[0.0455493 ]\n",
      " [0.04367313]\n",
      " [0.04345424]\n",
      " ...\n",
      " [0.73097769]\n",
      " [0.72899729]\n",
      " [0.73420888]]\n"
     ]
    }
   ],
   "source": [
    "print(\"Train\\n\",train_scaled,\"\\n---------------\\nTest\")\n",
    "print(test_scaled)"
   ]
  },
  {
   "cell_type": "code",
   "execution_count": 11,
   "metadata": {},
   "outputs": [],
   "source": [
    "features_set = []  \n",
    "labels = []\n",
    "for i in range(60, train_scaled.shape[0]):  \n",
    "    features_set.append(train_scaled[i-60:i,0])\n",
    "    labels.append(train_scaled[i,0])\n",
    "\n",
    "features_set, labels = np.array(features_set), np.array(labels)  \n",
    "\n",
    "features_set = np.reshape(features_set, (features_set.shape[0], features_set.shape[1], 1)) \n",
    "\n",
    "pickled_object = pickle.dumps(features_set)"
   ]
  },
  {
   "cell_type": "markdown",
   "metadata": {},
   "source": [
    "### Store Feature Set in Redis"
   ]
  },
  {
   "cell_type": "code",
   "execution_count": 12,
   "metadata": {},
   "outputs": [
    {
     "data": {
      "text/plain": [
       "True"
      ]
     },
     "execution_count": 12,
     "metadata": {},
     "output_type": "execute_result"
    }
   ],
   "source": [
    "r.set('features_set', pickled_object)"
   ]
  },
  {
   "cell_type": "markdown",
   "metadata": {},
   "source": [
    "### Retrieve Feature Set from Redis"
   ]
  },
  {
   "cell_type": "code",
   "execution_count": 13,
   "metadata": {},
   "outputs": [],
   "source": [
    "features_set = pickle.loads(r.get('features_set'))"
   ]
  },
  {
   "cell_type": "markdown",
   "metadata": {},
   "source": [
    "### Define Layers in the model"
   ]
  },
  {
   "cell_type": "code",
   "execution_count": 14,
   "metadata": {
    "scrolled": false
   },
   "outputs": [
    {
     "name": "stdout",
     "output_type": "stream",
     "text": [
      "Model: \"sequential\"\n",
      "_________________________________________________________________\n",
      "Layer (type)                 Output Shape              Param #   \n",
      "=================================================================\n",
      "lstm (LSTM)                  (None, 60, 50)            10400     \n",
      "_________________________________________________________________\n",
      "dropout (Dropout)            (None, 60, 50)            0         \n",
      "_________________________________________________________________\n",
      "lstm_1 (LSTM)                (None, 60, 50)            20200     \n",
      "_________________________________________________________________\n",
      "dropout_1 (Dropout)          (None, 60, 50)            0         \n",
      "_________________________________________________________________\n",
      "lstm_2 (LSTM)                (None, 60, 50)            20200     \n",
      "_________________________________________________________________\n",
      "dropout_2 (Dropout)          (None, 60, 50)            0         \n",
      "_________________________________________________________________\n",
      "lstm_3 (LSTM)                (None, 50)                20200     \n",
      "_________________________________________________________________\n",
      "dropout_3 (Dropout)          (None, 50)                0         \n",
      "_________________________________________________________________\n",
      "dense (Dense)                (None, 1)                 51        \n",
      "=================================================================\n",
      "Total params: 71,051\n",
      "Trainable params: 71,051\n",
      "Non-trainable params: 0\n",
      "_________________________________________________________________\n"
     ]
    }
   ],
   "source": [
    "model = Sequential()\n",
    "\n",
    "model.add(LSTM(units=50, return_sequences=True, input_shape=(features_set.shape[1], 1)))  \n",
    "model.add(Dropout(0.2))  \n",
    "model.add(LSTM(units=50, return_sequences=True))  \n",
    "model.add(Dropout(0.2))\n",
    "\n",
    "model.add(LSTM(units=50, return_sequences=True))  \n",
    "model.add(Dropout(0.2))\n",
    "\n",
    "model.add(LSTM(units=50))  \n",
    "model.add(Dropout(0.2))  \n",
    "\n",
    "model.add(Dense(units = 1)) \n",
    "model.compile(optimizer = 'adam', loss = 'mean_squared_error')\n",
    "model.summary()"
   ]
  },
  {
   "cell_type": "code",
   "execution_count": 15,
   "metadata": {
    "scrolled": false
   },
   "outputs": [
    {
     "name": "stdout",
     "output_type": "stream",
     "text": [
      "Train on 3675 samples\n",
      "Epoch 1/10\n",
      "3675/3675 [==============================] - 27s 7ms/sample - loss: 0.0039\n",
      "Epoch 2/10\n",
      "3675/3675 [==============================] - 17s 5ms/sample - loss: 0.0013\n",
      "Epoch 3/10\n",
      "3675/3675 [==============================] - 19s 5ms/sample - loss: 0.0011\n",
      "Epoch 4/10\n",
      "3675/3675 [==============================] - 18s 5ms/sample - loss: 9.1273e-04\n",
      "Epoch 5/10\n",
      "3675/3675 [==============================] - 19s 5ms/sample - loss: 9.2254e-04\n",
      "Epoch 6/10\n",
      "3675/3675 [==============================] - 20s 5ms/sample - loss: 9.4036e-04\n",
      "Epoch 7/10\n",
      "3675/3675 [==============================] - 23s 6ms/sample - loss: 9.4570e-04\n",
      "Epoch 8/10\n",
      "3675/3675 [==============================] - 18s 5ms/sample - loss: 9.2472e-04\n",
      "Epoch 9/10\n",
      "3675/3675 [==============================] - 20s 5ms/sample - loss: 8.5510e-04\n",
      "Epoch 10/10\n",
      "3675/3675 [==============================] - 18s 5ms/sample - loss: 9.4930e-04\n"
     ]
    },
    {
     "data": {
      "text/plain": [
       "<tensorflow.python.keras.callbacks.History at 0x7ff92c12f5f8>"
      ]
     },
     "execution_count": 15,
     "metadata": {},
     "output_type": "execute_result"
    }
   ],
   "source": [
    "model.fit(features_set, labels, epochs = 10, batch_size = 32) "
   ]
  },
  {
   "cell_type": "markdown",
   "metadata": {},
   "source": [
    "### Save and Load Model"
   ]
  },
  {
   "cell_type": "code",
   "execution_count": 16,
   "metadata": {},
   "outputs": [],
   "source": [
    "from tensorflow.keras.models import load_model\n",
    "\n",
    "model.save('./saved_models/stocks.h5')"
   ]
  },
  {
   "cell_type": "code",
   "execution_count": 17,
   "metadata": {},
   "outputs": [],
   "source": [
    "model = load_model('./saved_models/stocks.h5')\n",
    "\n",
    "test_features = []  \n",
    "for i in range(60, test_scaled.shape[0]):  \n",
    "    test_features.append(test_scaled[i-60:i, 0])\n",
    "\n",
    "test_features = np.array(test_features)\n",
    "test_features = np.reshape(test_features, (test_features.shape[0], test_features.shape[1], 1))  \n",
    "\n",
    "pickled_object = pickle.dumps(features_set)"
   ]
  },
  {
   "cell_type": "markdown",
   "metadata": {},
   "source": [
    "### Store Test Features in Redis"
   ]
  },
  {
   "cell_type": "code",
   "execution_count": 18,
   "metadata": {},
   "outputs": [
    {
     "data": {
      "text/plain": [
       "True"
      ]
     },
     "execution_count": 18,
     "metadata": {},
     "output_type": "execute_result"
    }
   ],
   "source": [
    "r.set('test_features', pickled_object)"
   ]
  },
  {
   "cell_type": "markdown",
   "metadata": {},
   "source": [
    "### Get Test Features from Redis"
   ]
  },
  {
   "cell_type": "code",
   "execution_count": null,
   "metadata": {},
   "outputs": [],
   "source": [
    "test_features = pickle.loads(r.get('features_set'))"
   ]
  },
  {
   "cell_type": "code",
   "execution_count": null,
   "metadata": {
    "scrolled": false
   },
   "outputs": [],
   "source": [
    "predictions = model.predict(test_features)  \n",
    "print(\"Test\\n\",test_scaled,\"\\n---------------\\nPredict\")\n",
    "print(predictions)"
   ]
  },
  {
   "cell_type": "code",
   "execution_count": null,
   "metadata": {},
   "outputs": [],
   "source": [
    "scaler.inverse_transform(predictions) "
   ]
  },
  {
   "cell_type": "code",
   "execution_count": null,
   "metadata": {
    "scrolled": false
   },
   "outputs": [],
   "source": [
    "plt.figure(figsize=(10,6))  \n",
    "plt.plot(test_scaled, color='blue', label='Actual Stock Price')  \n",
    "plt.plot(predictions, color='red', label='Predicted Stock Price')  \n",
    "plt.title('Stock Price Prediction')  \n",
    "plt.xlabel('Date')  \n",
    "plt.ylabel('Stock Price')  \n",
    "plt.legend()  \n",
    "plt.show()"
   ]
  },
  {
   "cell_type": "code",
   "execution_count": null,
   "metadata": {},
   "outputs": [],
   "source": [
    "model.predict(np.array([test_features[0]]))"
   ]
  }
 ],
 "metadata": {
  "kernelspec": {
   "display_name": "Python 3",
   "language": "python",
   "name": "python3"
  },
  "language_info": {
   "codemirror_mode": {
    "name": "ipython",
    "version": 3
   },
   "file_extension": ".py",
   "mimetype": "text/x-python",
   "name": "python",
   "nbconvert_exporter": "python",
   "pygments_lexer": "ipython3",
   "version": "3.6.8"
  }
 },
 "nbformat": 4,
 "nbformat_minor": 2
}
